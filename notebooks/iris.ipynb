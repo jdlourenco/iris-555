{
 "cells": [
  {
   "cell_type": "code",
   "execution_count": 20,
   "id": "inappropriate-tours",
   "metadata": {},
   "outputs": [
    {
     "name": "stdout",
     "output_type": "stream",
     "text": [
      "The autoreload extension is already loaded. To reload it, use:\n",
      "  %reload_ext autoreload\n"
     ]
    }
   ],
   "source": [
    "%load_ext autoreload\n",
    "%autoreload 2"
   ]
  },
  {
   "cell_type": "code",
   "execution_count": 2,
   "id": "popular-confirmation",
   "metadata": {},
   "outputs": [
    {
     "ename": "ModuleNotFoundError",
     "evalue": "No module named 'iris'",
     "output_type": "error",
     "traceback": [
      "\u001b[0;31m---------------------------------------------------------------------------\u001b[0m",
      "\u001b[0;31mModuleNotFoundError\u001b[0m                       Traceback (most recent call last)",
      "\u001b[0;32m<ipython-input-2-cde0300b3f97>\u001b[0m in \u001b[0;36m<module>\u001b[0;34m\u001b[0m\n\u001b[0;32m----> 1\u001b[0;31m \u001b[0;32mfrom\u001b[0m \u001b[0miris\u001b[0m\u001b[0;34m.\u001b[0m\u001b[0mtrainer\u001b[0m \u001b[0;32mimport\u001b[0m \u001b[0mTrainer\u001b[0m\u001b[0;34m\u001b[0m\u001b[0;34m\u001b[0m\u001b[0m\n\u001b[0m\u001b[1;32m      2\u001b[0m \u001b[0mtrainer\u001b[0m \u001b[0;34m=\u001b[0m \u001b[0mTrainer\u001b[0m\u001b[0;34m(\u001b[0m\u001b[0;34m)\u001b[0m\u001b[0;34m\u001b[0m\u001b[0;34m\u001b[0m\u001b[0m\n\u001b[1;32m      3\u001b[0m \u001b[0mtrainer\u001b[0m\u001b[0;34m.\u001b[0m\u001b[0mtrain\u001b[0m\u001b[0;34m(\u001b[0m\u001b[0;34m)\u001b[0m\u001b[0;34m\u001b[0m\u001b[0;34m\u001b[0m\u001b[0m\n",
      "\u001b[0;31mModuleNotFoundError\u001b[0m: No module named 'iris'"
     ]
    }
   ],
   "source": [
    "from iris.trainer import Trainer\n",
    "trainer = Trainer()\n",
    "trainer.train()"
   ]
  },
  {
   "cell_type": "code",
   "execution_count": 25,
   "id": "public-wrestling",
   "metadata": {},
   "outputs": [
    {
     "name": "stdout",
     "output_type": "stream",
     "text": [
      "total 24\r\n",
      "-rw-r--r--  1 jdlourenco  staff  1778 Feb 23 10:10 Untitled.ipynb\r\n",
      "-rw-r--r--  1 jdlourenco  staff  1212 Feb 23 09:48 model.joblib\r\n",
      "-rw-r--r--  1 jdlourenco  staff  1212 Feb 23 10:12 pipeline.joblib\r\n"
     ]
    }
   ],
   "source": [
    "! ls -l"
   ]
  },
  {
   "cell_type": "code",
   "execution_count": 30,
   "id": "detected-treaty",
   "metadata": {},
   "outputs": [],
   "source": [
    "import mlflow\n",
    "from  mlflow.tracking import MlflowClient\n",
    "\n",
    "mlflow.set_tracking_uri(\"https://mlflow.lewagon.co/\")b\n",
    "\n",
    "EXPERIMENT_NAME = \"[PT] [Lisbon] [jdlourenco] Taxifare 12345\"\n",
    "\n",
    "client = MlflowClient()\n",
    "experiment_id = client.create_experiment(EXPERIMENT_NAME)\n",
    "\n",
    "for model in [\"linear\", \"Randomforest\"]:\n",
    "    run = client.create_run(experiment_id)\n",
    "    client.log_metric(run.info.run_id, \"rmse\", 4.5)\n",
    "    client.log_param(run.info.run_id, \"model\", model)"
   ]
  },
  {
   "cell_type": "code",
   "execution_count": 36,
   "id": "green-tribute",
   "metadata": {},
   "outputs": [
    {
     "name": "stdout",
     "output_type": "stream",
     "text": [
      "non memoized calls differ:\n",
      "0.6900486387474124\n",
      "0.6900486387474124\n",
      "0.6900486387474124\n",
      "0.6900486387474124\n",
      "0.6900486387474124\n",
      "0.6900486387474124\n",
      "non memoized calls differ:\n",
      "0.3689990621963548\n",
      "0.3689990621963548\n"
     ]
    }
   ],
   "source": [
    "from memoized_property import memoized_property\n",
    "from random import random\n",
    "\n",
    "class Car():\n",
    "    @memoized_property\n",
    "    def get_random_value(self):\n",
    "        return random()\n",
    "\n",
    "car = Car()\n",
    "print('non memoized calls differ:')\n",
    "print(car.get_random_value)\n",
    "print(car.get_random_value)\n",
    "print(car.get_random_value)\n",
    "print(car.get_random_value)\n",
    "print(car.get_random_value)\n",
    "print(car.get_random_value)\n",
    "\n",
    "\n",
    "car2 = Car()\n",
    "print('non memoized calls differ:')\n",
    "print(car2.get_random_value)\n",
    "print(car2.get_random_value)"
   ]
  }
 ],
 "metadata": {
  "kernelspec": {
   "display_name": "Python 3",
   "language": "python",
   "name": "python3"
  },
  "language_info": {
   "codemirror_mode": {
    "name": "ipython",
    "version": 3
   },
   "file_extension": ".py",
   "mimetype": "text/x-python",
   "name": "python",
   "nbconvert_exporter": "python",
   "pygments_lexer": "ipython3",
   "version": "3.7.9"
  }
 },
 "nbformat": 4,
 "nbformat_minor": 5
}
